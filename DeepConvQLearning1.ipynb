{
 "cells": [
  {
   "cell_type": "code",
   "execution_count": 10,
   "metadata": {
    "collapsed": true
   },
   "outputs": [],
   "source": [
    "import gym\n",
    "import keras\n",
    "import random\n",
    "import numpy as np\n",
    "from keras import backend as K"
   ]
  },
  {
   "cell_type": "code",
   "execution_count": 52,
   "metadata": {
    "collapsed": true
   },
   "outputs": [],
   "source": [
    "class Agent:\n",
    "    def __init__(self, state_size, action_size):\n",
    "        self.state_size = state_size\n",
    "        self.action_size = action_size\n",
    "        self.memory = RingBuf(1000)\n",
    "        self.gamma = 0.95\n",
    "        self.epsilon = 1.0\n",
    "        self.epsilon_min = 0.001\n",
    "        self.epsilon_decay = 0.995\n",
    "        self.learning_rate = 0.001\n",
    "        \n",
    "        self.optimizer_lr = 0.00025\n",
    "        self.optimizer_rho = 0.95\n",
    "        self.optimizer_epsilon = 0.01\n",
    "        self.batch_size = 32\n",
    "        \n",
    "        self.model = self.build_model(state_size, action_size)\n",
    "        \n",
    "    \n",
    "    def to_grayscale(self, img):\n",
    "        return np.mean(img, axis=2).astype(np.uint8)\n",
    "    \n",
    "    def downsample(self, img):\n",
    "        return img[::2, ::2]\n",
    "    \n",
    "    def preprocess(self, img):\n",
    "        return to_grayscale(downsample(img))\n",
    "    \n",
    "    def fit_batch(self, model, target_model, gamma, start_states, actions, rewards, next_states, is_terminal):\n",
    "        # Predict q values of next states, passing ones as mask\n",
    "        next_q_values = target_model.predict([next_states, np.ones(actions.shape)])\n",
    "        \n",
    "        # Terminal state's q values are 0 by definition\n",
    "        next_q_values[is_terminal] = 0\n",
    "        \n",
    "        q_values = rewards + gamma * np.max(next_q_values, axis=1)\n",
    "        \n",
    "        # Pass actions as the mask and multiply targets by the actions \n",
    "        self.model.fit([start_states, actions], actions * q_values[:, None], nb_epoch=1, batch_size=len(start_states), verbose=0)\n",
    "    \n",
    "    def build_model(self, state_size, action_size):\n",
    "        \n",
    "        # Define inputs for the Functional API\n",
    "        frames_input = keras.layers.Input(state_size, name='frames')\n",
    "        actions_input = keras.layers.Input((action_size,), name='mask')\n",
    "        \n",
    "        norm = keras.layers.Lambda(lambda x: x/255.0)(frames_input)\n",
    "        \n",
    "        conv_1 = keras.layers.convolutional.Conv2D(16, 8, strides=4, activation='relu')(norm)\n",
    "        conv_2 = keras.layers.convolutional.Conv2D(32, 4, strides=2, activation='relu')(conv_1)\n",
    "        \n",
    "        conv_flattened = keras.layers.core.Flatten()(conv_2)\n",
    "           \n",
    "        hidden = keras.layers.Dense(256, activation='relu')(conv_flattened)\n",
    "        \n",
    "        output = keras.layers.Dense(action_size)(hidden)\n",
    "        \n",
    "        # Multiply by the mask\n",
    "        filtered_output = keras.layers.merge(inputs=[output, actions_input], mode='mul')\n",
    "        \n",
    "        self.model = keras.models.Model(inputs=[frames_input, actions_input], output=filtered_output)\n",
    "        optimizer = keras.optimizers.RMSprop(lr=self.optimizer_lr, rho=self.optimizer_rho, epsilon=self.optimizer_epsilon)\n",
    "        self.model.compile(optimizer, loss='mse')\n",
    "    \n",
    "    def q_iteration(self, env, model, state, iteration, memory):\n",
    "        if self.epsilon > self.epsilon_min:\n",
    "            self.epsilon = self.epsilon_decay * self.epsilon \n",
    "        \n",
    "        if random.random() < epsilon:\n",
    "            action = env.action_space.sample()\n",
    "        else:\n",
    "            action = chose_best_action(model, state)\n",
    "            \n",
    "        new_frame, reward, done, _ = env.step(action)\n",
    "        self.memory.add(state, action, new_frame, reward, done)\n",
    "        \n",
    "        batch = memory.sample_batch(self.batch_size)\n",
    "        fit_batch(model, batch)\n",
    "                \n",
    "    def copy_model(self, model):\n",
    "        model.save('tmp_model')\n",
    "        return keras.models.load_model('tmp_model', custom_objects={'huber_loss': huber_loss})\n",
    "    \n",
    "    def huber_loss(self, a, b, in_keras=True):\n",
    "        error = a - b\n",
    "        quadratic_term = error * error / 2\n",
    "        linear_term = abs(error) - 1/2\n",
    "        use_linear_term = (abs(error) > 1.0)\n",
    "        if in_keras:\n",
    "            use_linear_term = K.cast(use_linear_term, 'float32')\n",
    "        return use_linear_term * linear_term + (1 - use_linear_term) * quadratic_term"
   ]
  },
  {
   "cell_type": "code",
   "execution_count": 53,
   "metadata": {
    "collapsed": true
   },
   "outputs": [
    {
     "name": "stderr",
     "output_type": "stream",
     "text": [
      "[2018-03-16 09:45:10,464] Making new env: BreakoutDeterministic-v4\n"
     ]
    },
    {
     "name": "stderr",
     "output_type": "stream",
     "text": [
      "/home/alexandre/PycharmProjects/first/venv/lib/python3.5/site-packages/ipykernel_launcher.py:59: UserWarning: The `merge` function is deprecated and will be removed after 08/2017. Use instead layers from `keras.layers.merge`, e.g. `add`, `concatenate`, etc.\n/home/alexandre/PycharmProjects/first/venv/lib/python3.5/site-packages/keras/legacy/layers.py:464: UserWarning: The `Merge` layer is deprecated and will be removed after 08/2017. Use instead layers from `keras.layers.merge`, e.g. `add`, `concatenate`, etc.\n  name=name)\n/home/alexandre/PycharmProjects/first/venv/lib/python3.5/site-packages/ipykernel_launcher.py:61: UserWarning: Update your `Model` call to the Keras 2 API: `Model(outputs=Tensor(\"me..., inputs=[<tf.Tenso...)`\n"
     ]
    },
    {
     "ename": "NameError",
     "evalue": "name 'get_epsilon' is not defined",
     "traceback": [
      "\u001b[0;31m---------------------------------------------------------------------------\u001b[0m",
      "\u001b[0;31mNameError\u001b[0m                                 Traceback (most recent call last)",
      "\u001b[0;32m<ipython-input-53-2850101014f6>\u001b[0m in \u001b[0;36m<module>\u001b[0;34m()\u001b[0m\n\u001b[1;32m     13\u001b[0m             \u001b[0;32mif\u001b[0m \u001b[0miteration\u001b[0m \u001b[0;34m==\u001b[0m \u001b[0;34m(\u001b[0m\u001b[0mEPISODES\u001b[0m\u001b[0;34m-\u001b[0m\u001b[0;36m1\u001b[0m\u001b[0;34m)\u001b[0m\u001b[0;34m:\u001b[0m\u001b[0;34m\u001b[0m\u001b[0m\n\u001b[1;32m     14\u001b[0m                 \u001b[0menv\u001b[0m\u001b[0;34m.\u001b[0m\u001b[0mrender\u001b[0m\u001b[0;34m(\u001b[0m\u001b[0;34m)\u001b[0m\u001b[0;34m\u001b[0m\u001b[0m\n\u001b[0;32m---> 15\u001b[0;31m             \u001b[0mq_iteration\u001b[0m\u001b[0;34m(\u001b[0m\u001b[0menv\u001b[0m\u001b[0;34m,\u001b[0m \u001b[0mmodel\u001b[0m\u001b[0;34m,\u001b[0m \u001b[0mstate\u001b[0m\u001b[0;34m,\u001b[0m \u001b[0miteration\u001b[0m\u001b[0;34m,\u001b[0m \u001b[0mmemory\u001b[0m\u001b[0;34m)\u001b[0m\u001b[0;34m\u001b[0m\u001b[0m\n\u001b[0m\u001b[1;32m     16\u001b[0m \u001b[0;34m\u001b[0m\u001b[0m\n\u001b[1;32m     17\u001b[0m             \u001b[0;32mif\u001b[0m \u001b[0mdone\u001b[0m\u001b[0;34m:\u001b[0m\u001b[0;34m\u001b[0m\u001b[0m\n",
      "\u001b[0;32m<ipython-input-14-4bb9adbf5d1e>\u001b[0m in \u001b[0;36mq_iteration\u001b[0;34m(env, model, state, iteration, memory)\u001b[0m\n\u001b[1;32m      1\u001b[0m \u001b[0;32mdef\u001b[0m \u001b[0mq_iteration\u001b[0m\u001b[0;34m(\u001b[0m\u001b[0menv\u001b[0m\u001b[0;34m,\u001b[0m \u001b[0mmodel\u001b[0m\u001b[0;34m,\u001b[0m \u001b[0mstate\u001b[0m\u001b[0;34m,\u001b[0m \u001b[0miteration\u001b[0m\u001b[0;34m,\u001b[0m \u001b[0mmemory\u001b[0m\u001b[0;34m)\u001b[0m\u001b[0;34m:\u001b[0m\u001b[0;34m\u001b[0m\u001b[0m\n\u001b[0;32m----> 2\u001b[0;31m     \u001b[0mepsilon\u001b[0m \u001b[0;34m=\u001b[0m \u001b[0mget_epsilon\u001b[0m\u001b[0;34m(\u001b[0m\u001b[0miteration\u001b[0m\u001b[0;34m)\u001b[0m\u001b[0;34m\u001b[0m\u001b[0m\n\u001b[0m\u001b[1;32m      3\u001b[0m \u001b[0;34m\u001b[0m\u001b[0m\n\u001b[1;32m      4\u001b[0m     \u001b[0;32mif\u001b[0m \u001b[0mrandom\u001b[0m\u001b[0;34m.\u001b[0m\u001b[0mrandom\u001b[0m\u001b[0;34m(\u001b[0m\u001b[0;34m)\u001b[0m \u001b[0;34m<\u001b[0m \u001b[0mepsilon\u001b[0m\u001b[0;34m:\u001b[0m\u001b[0;34m\u001b[0m\u001b[0m\n\u001b[1;32m      5\u001b[0m         \u001b[0maction\u001b[0m \u001b[0;34m=\u001b[0m \u001b[0menv\u001b[0m\u001b[0;34m.\u001b[0m\u001b[0maction_space\u001b[0m\u001b[0;34m.\u001b[0m\u001b[0msample\u001b[0m\u001b[0;34m(\u001b[0m\u001b[0;34m)\u001b[0m\u001b[0;34m\u001b[0m\u001b[0m\n",
      "\u001b[0;31mNameError\u001b[0m: name 'get_epsilon' is not defined"
     ],
     "output_type": "error"
    }
   ],
   "source": [
    "EPISODES = 100\n",
    "if __name__ == \"__main__\":\n",
    "    env = gym.make('BreakoutDeterministic-v4')\n",
    "    state_size = env.observation_space.shape\n",
    "    action_size = env.action_space.n\n",
    "    agent = Agent(state_size, action_size)\n",
    "    done = False\n",
    "    \n",
    "    for iteration in range(EPISODES):\n",
    "        state = env.reset()\n",
    "        state = agent.preprocess(state)\n",
    "        while not done:\n",
    "            if iteration == (EPISODES-1):\n",
    "                env.render()\n",
    "            q_iteration(env, model, state, iteration, memory)\n",
    "            \n",
    "            if done:\n",
    "                env.render(close=True)\n",
    "                break\n",
    "        "
   ]
  },
  {
   "cell_type": "code",
   "execution_count": 49,
   "metadata": {},
   "outputs": [],
   "source": [
    "class RingBuf:\n",
    "    def __init__(self, size):\n",
    "        self.data = [None] * (size + 1)\n",
    "        self.start = 0\n",
    "        self.end = 0\n",
    "        \n",
    "    def append(self, element):\n",
    "        self.data[self.end] = element\n",
    "        self.end = (self.end + 1) % len(self.data)\n",
    "        \n",
    "        if self.end == self.start:\n",
    "            self.start = (self.start + 1) % len(self.data)\n",
    "            \n",
    "    def __getitem__(self, index):\n",
    "        return self.data[(self.start + index) % len(self.data)]\n",
    "    \n",
    "    def __len__(self):\n",
    "        if self.end < self.start:\n",
    "            return self.end + len(self.data) - self.start\n",
    "        else:\n",
    "            return self.end - self.start\n",
    "        \n",
    "    def __iter__(self):\n",
    "        for i in range(len(self)):\n",
    "            yield self[i]\n",
    "            "
   ]
  },
  {
   "cell_type": "code",
   "execution_count": null,
   "metadata": {},
   "outputs": [],
   "source": []
  }
 ],
 "metadata": {
  "kernelspec": {
   "display_name": "Python 2",
   "language": "python",
   "name": "python2"
  },
  "language_info": {
   "codemirror_mode": {
    "name": "ipython",
    "version": 2
   },
   "file_extension": ".py",
   "mimetype": "text/x-python",
   "name": "python",
   "nbconvert_exporter": "python",
   "pygments_lexer": "ipython2",
   "version": "2.7.6"
  }
 },
 "nbformat": 4,
 "nbformat_minor": 0
}

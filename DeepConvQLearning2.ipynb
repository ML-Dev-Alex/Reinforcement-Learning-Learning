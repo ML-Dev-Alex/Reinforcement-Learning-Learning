{
 "cells": [
  {
   "cell_type": "code",
   "execution_count": 5,
   "metadata": {
    "collapsed": true
   },
   "outputs": [],
   "source": [
    "import gym\n",
    "import keras\n",
    "from keras import Sequential\n",
    "from keras import backend as K\n",
    "from keras.layers import Dense, Conv2D, Flatten\n",
    "import random\n",
    "import numpy as np\n",
    "from collections import deque"
   ]
  },
  {
   "cell_type": "code",
   "execution_count": 2,
   "metadata": {
    "collapsed": true
   },
   "outputs": [],
   "source": [
    "EPISODES = 5\n",
    "# SGD updates are sampled from this number of most recent frames\n",
    "MEMORY = 10000000\n",
    "# 5 minutes running on 60 FPS:\n",
    "MAX_TIME = 18000\n",
    "# Deterministic-v4 is the version used by the original deepmind paper, which helps to deal with atari's limitations \n",
    "GAME = 'BreakoutDeterministic-v4'\n"
   ]
  },
  {
   "cell_type": "code",
   "execution_count": 7,
   "metadata": {
    "collapsed": true
   },
   "outputs": [],
   "source": [
    "class Agent:\n",
    "    def __init__(self, state_size, action_size):\n",
    "        self.state_size = state_size\n",
    "        self.action_size = action_size\n",
    "\n",
    "        # Discount factor\n",
    "        self.gamma = 0.99\n",
    "\n",
    "        # Exploration rate\n",
    "        self.epsilon = 1.0\n",
    "        self.epsilon_min = 0.01\n",
    "        self.epsilon_decay = 0.995\n",
    "\n",
    "        self.learning_rate = 0.001\n",
    "\n",
    "        # RMSProp hyperparameters \n",
    "        self.optimizer_lr = 0.00025\n",
    "        self.optimizer_rho = 0.95\n",
    "        self.optimizer_epsilon = 0.01\n",
    "        \n",
    "        # Image Pre-processing \n",
    "        self.frames_per_action = 30\n",
    "        self.frames_per_state = 4\n",
    "\n",
    "        self.batch_size = 32\n",
    "        # Target network update Frequency\n",
    "        self.C = 10000\n",
    "        self.C_counter = 0\n",
    "\n",
    "        self.model = self.build_model(state_size, action_size)\n",
    "        self.model_target = self.model\n",
    "        \n",
    "        self.Q = np.ones(action_size)\n",
    "        self.Q_hat = self.Q\n",
    "        \n",
    "    def build_model(self, state_size, action_size):    \n",
    "        model = Sequential()\n",
    "        # Convolutional layers as per deepmind paper\n",
    "        model.add(Conv2D(16, 8, input_shape=state_size, strides=4, activation='relu'))\n",
    "        model.add(Conv2D(32, 4, strides=2, activation='relu'))\n",
    "        # Flatten the convolutional layers to pass trough final layer\n",
    "        model.add(Flatten())\n",
    "        # Linear output layer \n",
    "        model.add(Dense(action_size))\n",
    "        return model\n",
    "\n",
    "    def act(self, env, frame, timestep, memory):\n",
    "        # Explore less randomly over time\n",
    "        if self.epsilon > self.epsilon_min:\n",
    "            self.epsilon = self.epsilon_decay = self.epsilon\n",
    "\n",
    "        # Take a random exploratory action sometimes, otherwise take best action it can\n",
    "        if random.random() < self.epsilon:\n",
    "            action = np.random.randint(0, env.action_space.n, size=1)[0]\n",
    "        else:\n",
    "            # Only predict once every few frames to save computational\n",
    "            # time and simulate a better human learning experience\n",
    "            self.Q = self.model.predict([frame])\n",
    "            action = np.argmax(self.Q)\n",
    "        \n",
    "        frame_new, reward, done, _ = env.step(action)\n",
    "        frame_new = self.preprocess(frame_new)\n",
    "        \n",
    "        memory.append((frame, action, reward, frame_new, done))\n",
    "        \n",
    "        # Train on the past transitions\n",
    "        if timestep >= self.batch_size:\n",
    "            self.fit_batch(memory)\n",
    "            \n",
    "        # Every few steps reset target model to trained model\n",
    "        self.C_counter += 1\n",
    "        if self.C_counter >= self.C:\n",
    "            self.C_counter = 0\n",
    "            self.model_target = self.copy_model(self.model)\n",
    "            \n",
    "    def fit_batch(self, memory):\n",
    "        minibatch = random.sample(memory, self.batch_size)\n",
    "        for i in range(0, self.batch_size):\n",
    "            frame = minibatch[i][0]\n",
    "            action = minibatch[i][1]\n",
    "            reward = minibatch[i][2]\n",
    "            frame_new = minibatch[i][3]\n",
    "            done = minibatch[i][4]\n",
    "            \n",
    "            if done:\n",
    "                target = reward\n",
    "            else:\n",
    "                target = reward + self.gamma * np.max(self.model_target.predict([frame_new, action]))\n",
    "                \n",
    "            target_future = self.model_target.predict([frame, action])\n",
    "            target_future[0][action] = target\n",
    "            \n",
    "            self.model.fit(frame, target_future, epochs=1, verbose=0)\n",
    "            \n",
    "    def copy_model(self, model):                    \n",
    "            model.save('tmp_model')\n",
    "            return keras.models.load_model('tmp_model', custom_objects={'huber_loss': self.huber_loss})\n",
    "    \n",
    "    def preprocess(self, img):\n",
    "        # Take the max between two frames to eliminate problems with atari flickering \n",
    "        temp, _, _, _ = env.step(np.argmax(agent.Q))\n",
    "        img = np.fmax(img, temp)\n",
    "        # RGB to Grayscale\n",
    "        img = np.dot(img[..., :3], [0.229, 0.587, 0.114])       \n",
    "        return img\n",
    "    \n",
    "    def huber_loss(self, a, b, in_keras=True):\n",
    "        error = a - b\n",
    "        quadratic_term = error * error / 2\n",
    "        linear_term = abs(error) - 1/2\n",
    "        use_linear_term = (abs(error) > 1.0)\n",
    "        if in_keras:\n",
    "            use_linear_term = K.cast(use_linear_term, 'float32')\n",
    "        return use_linear_term * linear_term + (1 - use_linear_term) * quadratic_term"
   ]
  },
  {
   "cell_type": "code",
   "execution_count": 8,
   "metadata": {
    "collapsed": true
   },
   "outputs": [
    {
     "name": "stderr",
     "output_type": "stream",
     "text": [
      "[2018-03-23 17:10:53,854] Making new env: BreakoutDeterministic-v4\n"
     ]
    },
    {
     "ename": "ValueError",
     "evalue": "operands could not be broadcast together with shapes (210,160) (210,160,3) ",
     "traceback": [
      "\u001b[0;31m---------------------------------------------------------------------------\u001b[0m",
      "\u001b[0;31mValueError\u001b[0m                                Traceback (most recent call last)",
      "\u001b[0;32m<ipython-input-8-3685cde0ca2f>\u001b[0m in \u001b[0;36m<module>\u001b[0;34m()\u001b[0m\n\u001b[1;32m     21\u001b[0m         \u001b[0;31m# and be more computationally efficient\u001b[0m\u001b[0;34m\u001b[0m\u001b[0;34m\u001b[0m\u001b[0m\n\u001b[1;32m     22\u001b[0m         \u001b[0;32mif\u001b[0m \u001b[0mtimestep\u001b[0m \u001b[0;34m%\u001b[0m \u001b[0magent\u001b[0m\u001b[0;34m.\u001b[0m\u001b[0mframes_per_state\u001b[0m\u001b[0;34m:\u001b[0m\u001b[0;34m\u001b[0m\u001b[0m\n\u001b[0;32m---> 23\u001b[0;31m             \u001b[0mframe\u001b[0m \u001b[0;34m=\u001b[0m \u001b[0magent\u001b[0m\u001b[0;34m.\u001b[0m\u001b[0mpreprocess\u001b[0m\u001b[0;34m(\u001b[0m\u001b[0mframe\u001b[0m\u001b[0;34m)\u001b[0m\u001b[0;34m\u001b[0m\u001b[0m\n\u001b[0m\u001b[1;32m     24\u001b[0m             \u001b[0magent\u001b[0m\u001b[0;34m.\u001b[0m\u001b[0mact\u001b[0m\u001b[0;34m(\u001b[0m\u001b[0menv\u001b[0m\u001b[0;34m,\u001b[0m \u001b[0mframe\u001b[0m\u001b[0;34m,\u001b[0m \u001b[0mtimestep\u001b[0m\u001b[0;34m,\u001b[0m \u001b[0mmemory\u001b[0m\u001b[0;34m)\u001b[0m\u001b[0;34m\u001b[0m\u001b[0m\n\u001b[1;32m     25\u001b[0m         \u001b[0;32melse\u001b[0m\u001b[0;34m:\u001b[0m\u001b[0;34m\u001b[0m\u001b[0m\n",
      "\u001b[0;32m<ipython-input-7-1a82f1f83e15>\u001b[0m in \u001b[0;36mpreprocess\u001b[0;34m(self, img)\u001b[0m\n\u001b[1;32m    100\u001b[0m         \u001b[0;31m# Take the max between two frames to eliminate problems with atari flickering\u001b[0m\u001b[0;34m\u001b[0m\u001b[0;34m\u001b[0m\u001b[0m\n\u001b[1;32m    101\u001b[0m         \u001b[0mtemp\u001b[0m\u001b[0;34m,\u001b[0m \u001b[0m_\u001b[0m\u001b[0;34m,\u001b[0m \u001b[0m_\u001b[0m\u001b[0;34m,\u001b[0m \u001b[0m_\u001b[0m\u001b[0;34m=\u001b[0m \u001b[0menv\u001b[0m\u001b[0;34m.\u001b[0m\u001b[0mstep\u001b[0m\u001b[0;34m(\u001b[0m\u001b[0mnp\u001b[0m\u001b[0;34m.\u001b[0m\u001b[0margmax\u001b[0m\u001b[0;34m(\u001b[0m\u001b[0magent\u001b[0m\u001b[0;34m.\u001b[0m\u001b[0mQ\u001b[0m\u001b[0;34m)\u001b[0m\u001b[0;34m)\u001b[0m\u001b[0;34m\u001b[0m\u001b[0m\n\u001b[0;32m--> 102\u001b[0;31m         \u001b[0mimg\u001b[0m \u001b[0;34m=\u001b[0m \u001b[0mnp\u001b[0m\u001b[0;34m.\u001b[0m\u001b[0mfmax\u001b[0m\u001b[0;34m(\u001b[0m\u001b[0mimg\u001b[0m\u001b[0;34m,\u001b[0m \u001b[0mtemp\u001b[0m\u001b[0;34m)\u001b[0m\u001b[0;34m\u001b[0m\u001b[0m\n\u001b[0m\u001b[1;32m    103\u001b[0m         \u001b[0;31m# RGB to Grayscale\u001b[0m\u001b[0;34m\u001b[0m\u001b[0;34m\u001b[0m\u001b[0m\n\u001b[1;32m    104\u001b[0m         \u001b[0mimg\u001b[0m \u001b[0;34m=\u001b[0m \u001b[0mnp\u001b[0m\u001b[0;34m.\u001b[0m\u001b[0mdot\u001b[0m\u001b[0;34m(\u001b[0m\u001b[0mimg\u001b[0m\u001b[0;34m[\u001b[0m\u001b[0;34m...\u001b[0m\u001b[0;34m,\u001b[0m \u001b[0;34m:\u001b[0m\u001b[0;36m3\u001b[0m\u001b[0;34m]\u001b[0m\u001b[0;34m,\u001b[0m \u001b[0;34m[\u001b[0m\u001b[0;36m0.229\u001b[0m\u001b[0;34m,\u001b[0m \u001b[0;36m0.587\u001b[0m\u001b[0;34m,\u001b[0m \u001b[0;36m0.114\u001b[0m\u001b[0;34m]\u001b[0m\u001b[0;34m)\u001b[0m\u001b[0;34m\u001b[0m\u001b[0m\n",
      "\u001b[0;31mValueError\u001b[0m: operands could not be broadcast together with shapes (210,160) (210,160,3) "
     ],
     "output_type": "error"
    }
   ],
   "source": [
    "memory = deque(maxlen=MEMORY)\n",
    "env = gym.make(GAME)\n",
    "\n",
    "state_size = env.observation_space.shape\n",
    "action_size = env.action_space.n\n",
    "\n",
    "done = False\n",
    "\n",
    "agent = Agent(state_size, action_size)\n",
    "\n",
    "for episode in range(EPISODES):\n",
    "    env.reset()        \n",
    "    for timestep in range(MAX_TIME):\n",
    "        \n",
    "        if episode == (EPISODES - 1):\n",
    "            print('Episode: {}  Reward: {}'.format(episode, 1))\n",
    "            env.render()\n",
    "        \n",
    "        # Repeat same action a few times before moving on to simulate human experience\n",
    "        # and be more computationally efficient\n",
    "        if timestep % agent.frames_per_state:\n",
    "            frame = agent.preprocess(frame)\n",
    "            agent.act(env, frame, timestep, memory)\n",
    "        else:\n",
    "            frame, _, _, _ = env.step(np.argmax(agent.Q))\n",
    "            \n",
    "        if done:\n",
    "            env.render(close=True)\n",
    "            break"
   ]
  },
  {
   "cell_type": "code",
   "execution_count": 5,
   "metadata": {
    "collapsed": true
   },
   "outputs": [
    {
     "name": "stderr",
     "output_type": "stream",
     "text": [
      "[2018-03-23 01:58:54,443] Making new env: BreakoutDeterministic-v4\n"
     ]
    },
    {
     "data": {
      "text/plain": [
       "(210, 160, 3)"
      ]
     },
     "execution_count": 5,
     "metadata": {},
     "output_type": "execute_result"
    }
   ],
   "source": [
    "test = gym.make(GAME)\n",
    "a = test.reset()\n",
    "frame, _, _, _ = env.step(0)\n",
    "frame.shape"
   ]
  },
  {
   "cell_type": "code",
   "execution_count": 26,
   "metadata": {
    "collapsed": true
   },
   "outputs": [
    {
     "data": {
      "text/plain": [
       "'1.14.0'"
      ]
     },
     "execution_count": 26,
     "metadata": {},
     "output_type": "execute_result"
    }
   ],
   "source": [
    "np.version.version\n"
   ]
  },
  {
   "cell_type": "code",
   "execution_count": null,
   "metadata": {},
   "outputs": [],
   "source": []
  }
 ],
 "metadata": {
  "kernelspec": {
   "display_name": "Python 2",
   "language": "python",
   "name": "python2"
  },
  "language_info": {
   "codemirror_mode": {
    "name": "ipython",
    "version": 2
   },
   "file_extension": ".py",
   "mimetype": "text/x-python",
   "name": "python",
   "nbconvert_exporter": "python",
   "pygments_lexer": "ipython2",
   "version": "2.7.6"
  }
 },
 "nbformat": 4,
 "nbformat_minor": 0
}
